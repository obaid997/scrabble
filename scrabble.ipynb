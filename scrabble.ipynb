{
 "cells": [
  {
   "cell_type": "code",
   "execution_count": 1,
   "id": "1722fa87",
   "metadata": {},
   "outputs": [
    {
     "name": "stdout",
     "output_type": "stream",
     "text": [
      "15\n",
      "{'player1': 29, 'wordNerd': 32, 'Lexi Con': 31, 'Prof Reader': 31}\n"
     ]
    }
   ],
   "source": [
    "letters = [\"A\", \"B\", \"C\", \"D\", \"E\", \"F\", \"G\", \"H\", \"I\", \"J\", \"K\", \"L\", \"M\", \"N\", \"O\", \"P\", \"Q\", \"R\", \"S\", \"T\", \"U\", \"V\", \"W\", \"X\", \"Y\", \"Z\"]\n",
    "points = [1, 3, 3, 2, 1, 4, 2, 4, 1, 8, 5, 1, 3, 4, 1, 3, 10, 1, 1, 1, 1, 4, 4, 8, 4, 10]\n",
    "\n",
    "letter_to_points = {letter: point for letter,point in zip(letters, points)}\n",
    "\n",
    "def score_word(word):\n",
    "  point_total = 0\n",
    "  for i in word:\n",
    "    point_total += letter_to_points.get(i, 0)\n",
    "  return point_total\n",
    "\n",
    "brownie_points = score_word(\"BROWNIE\")\n",
    "print(brownie_points)\n",
    "\n",
    "player_to_words = {\n",
    "  \"player1\": [\"BLUE\", \"TENNIS\", \"EXIT\"],\n",
    "  \"wordNerd\": [\"EARTH\", \"EYES\", \"MACHINE\"],\n",
    "  \"Lexi Con\": [\"ERASER\", \"BELLY\", \"HUSKY\"],\n",
    "  \"Prof Reader\": [\"ZAP\", \"COMA\", \"PERIOD\"]\n",
    "}\n",
    "\n",
    "player_to_points = {}\n",
    "for player, words in player_to_words.items():\n",
    "  player_points = 0\n",
    "  for word in words:\n",
    "    player_points += score_word(word)\n",
    "  player_to_points[player] = player_points  \n",
    "\n",
    "print(player_to_points)"
   ]
  },
  {
   "cell_type": "code",
   "execution_count": null,
   "id": "f1550ced",
   "metadata": {},
   "outputs": [],
   "source": []
  }
 ],
 "metadata": {
  "kernelspec": {
   "display_name": "Python 3 (ipykernel)",
   "language": "python",
   "name": "python3"
  },
  "language_info": {
   "codemirror_mode": {
    "name": "ipython",
    "version": 3
   },
   "file_extension": ".py",
   "mimetype": "text/x-python",
   "name": "python",
   "nbconvert_exporter": "python",
   "pygments_lexer": "ipython3",
   "version": "3.9.12"
  }
 },
 "nbformat": 4,
 "nbformat_minor": 5
}
